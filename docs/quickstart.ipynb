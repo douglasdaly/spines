{
 "cells": [
  {
   "cell_type": "markdown",
   "metadata": {},
   "source": [
    "# Quick Start"
   ]
  },
  {
   "cell_type": "markdown",
   "metadata": {},
   "source": [
    "To demonstrate some of the features of the spines package we'll begin by constructing a simple OLS regression model."
   ]
  },
  {
   "cell_type": "markdown",
   "metadata": {},
   "source": [
    "## Creating a Model"
   ]
  },
  {
   "cell_type": "markdown",
   "metadata": {},
   "source": [
    "First we'll import the libraries we'll need, in our case here just numpy and spines:"
   ]
  },
  {
   "cell_type": "code",
   "execution_count": 1,
   "metadata": {},
   "outputs": [],
   "source": [
    "import numpy as np\n",
    "\n",
    "from spines import Model, Parameter"
   ]
  },
  {
   "cell_type": "markdown",
   "metadata": {},
   "source": [
    "Now we'll construct the OLS Regression model class:"
   ]
  },
  {
   "cell_type": "code",
   "execution_count": 2,
   "metadata": {},
   "outputs": [],
   "source": [
    "class OLSRegression(Model):\n",
    "    \"\"\"\n",
    "    OLS Regression model\n",
    "    \"\"\"\n",
    "    betas = Parameter(np.ndarray)\n",
    "    intercept = Parameter(bool, default=False)\n",
    "    \n",
    "    def fit(self, X, y):\n",
    "        if self.intercept:\n",
    "            X = np.hstack((X, np.full((X.shape[0], 1), 1.0)))\n",
    "        self.betas = np.matmul(np.matmul(np.linalg.inv(np.matmul(X.T, X)), X.T), y)\n",
    "    \n",
    "    def predict(self, X):\n",
    "        return np.matmul(X, self.betas)\n",
    "    \n",
    "    def error(self, X, y):\n",
    "        y_hat = self.predict(X)\n",
    "        return np.mean((y-y_hat)**2.0)"
   ]
  },
  {
   "cell_type": "markdown",
   "metadata": {},
   "source": [
    "Let's generate some random, slightly noisy data to fit the model with:"
   ]
  },
  {
   "cell_type": "code",
   "execution_count": 3,
   "metadata": {},
   "outputs": [],
   "source": [
    "X = np.random.rand(100, 3)\n",
    "y = (X * np.array([1.0, 0.5, 2.0])).sum(axis=1)\n",
    "X += np.random.normal(scale=0.01, size=X.shape)\n",
    "y += np.random.normal(scale=0.05, size=y.shape)"
   ]
  },
  {
   "cell_type": "markdown",
   "metadata": {},
   "source": [
    "Now we can create our model instance and fit it:"
   ]
  },
  {
   "cell_type": "code",
   "execution_count": 4,
   "metadata": {},
   "outputs": [],
   "source": [
    "ols_model = OLSRegression()\n",
    "ols_model.fit(X, y)"
   ]
  },
  {
   "cell_type": "markdown",
   "metadata": {},
   "source": [
    "The results:"
   ]
  },
  {
   "cell_type": "code",
   "execution_count": 5,
   "metadata": {},
   "outputs": [
    {
     "name": "stdout",
     "output_type": "stream",
     "text": [
      "Parameters: {\n",
      "  betas: [1.00449902 0.52903459 1.96948729]\n",
      "  intercept: None\n",
      "}\n",
      "Error: 0.0025451062299128246\n"
     ]
    }
   ],
   "source": [
    "print('Parameters: %s' % ols_model.parameters)\n",
    "print('Error: %s' % ols_model.error(X, y))"
   ]
  }
 ],
 "metadata": {
  "kernelspec": {
   "display_name": "Spines Dev",
   "language": "python",
   "name": "spines-dev"
  },
  "language_info": {
   "codemirror_mode": {
    "name": "ipython",
    "version": 3
   },
   "file_extension": ".py",
   "mimetype": "text/x-python",
   "name": "python",
   "nbconvert_exporter": "python",
   "pygments_lexer": "ipython3",
   "version": "3.7.2"
  },
  "nbsphinx": {
    "execute": "never"
  }
 },
 "nbformat": 4,
 "nbformat_minor": 2
}
